{
 "cells": [
  {
   "cell_type": "markdown",
   "metadata": {
    "collapsed": true
   },
   "source": [
    "Application using altimetry data obtained from AVISO.\n",
    "* Region of interest: Mediterranean Sea.\n",
    "* Period of interest: May 2014.\n",
    "* Satellite avaible: AltiKa, Cryosat, H2 and JASON-2. "
   ]
  },
  {
   "cell_type": "code",
   "execution_count": 1,
   "metadata": {},
   "outputs": [
    {
     "name": "stderr",
     "output_type": "stream",
     "text": [
      "WARNING: Method definition warn(Any...) in module Base at util.jl:585 overwritten in module Logging at /home/ctroupin/.julia/v0.6/Logging/src/Logging.jl:115.\n",
      "WARNING: Method definition info(Any...) in module Base at util.jl:532 overwritten in module Logging at /home/ctroupin/.julia/v0.6/Logging/src/Logging.jl:115.\n"
     ]
    }
   ],
   "source": [
    "using divand\n",
    "using NetCDF\n",
    "using PyPlot\n",
    "using Logging\n",
    "Logging.configure(level=DEBUG);"
   ]
  },
  {
   "cell_type": "markdown",
   "metadata": {},
   "source": [
    "# User inputs\n",
    "\n",
    "## Domain of interest, resolution"
   ]
  },
  {
   "cell_type": "code",
   "execution_count": 2,
   "metadata": {},
   "outputs": [],
   "source": [
    "lonmin, lonmax, latmin, latmax = -7., 40., 30., 48.\n",
    "dx, dy, dt = .125, .125, 1.\n",
    "lonr = lonmin:dx:lonmax;\n",
    "latr = latmin:dy:latmax;\n",
    "timer = 23520:dt:23521;"
   ]
  },
  {
   "cell_type": "markdown",
   "metadata": {},
   "source": [
    "## File and directories"
   ]
  },
  {
   "cell_type": "code",
   "execution_count": 3,
   "metadata": {},
   "outputs": [
    {
     "name": "stderr",
     "output_type": "stream",
     "text": [
      "19-juil. 09:24:31:INFO:root:Data file:\n",
      "../data/ADT_20140515_20140604.dat\n",
      "19-juil. 09:24:31:INFO:root:Result file:\n",
      "../results/divand/ADT_20140515_20140604_0pt125d1.nc\n"
     ]
    }
   ],
   "source": [
    "datadir = joinpath(\"../data/\");\n",
    "datafile = joinpath(datadir, \"ADT_20140515_20140604.dat\")\n",
    "resultdir = joinpath(\"../results/divand/\");\n",
    "resultfile = joinpath(resultdir, \"ADT_20140515_20140604_0pt125d1.nc\");\n",
    "info(\"Data file:\\n\", datafile)\n",
    "info(\"Result file:\\n\", resultfile)"
   ]
  },
  {
   "cell_type": "markdown",
   "metadata": {},
   "source": [
    "# Read data file (4-column, ascii)"
   ]
  },
  {
   "cell_type": "code",
   "execution_count": 4,
   "metadata": {},
   "outputs": [
    {
     "name": "stderr",
     "output_type": "stream",
     "text": [
      "19-juil. 09:24:31:INFO:root:Data read from file ../data/ADT_20140515_20140604.dat\n"
     ]
    }
   ],
   "source": [
    "function readAltimetryFile(fname)\n",
    "\n",
    "    data = readlines(open(fname,\"r\"))\n",
    "    nobs = length(data)\n",
    "\n",
    "    lon = zeros(nobs)\n",
    "    lat = zeros(nobs)\n",
    "    time = zeros(nobs)\n",
    "    field = zeros(nobs)\n",
    "\n",
    "    for i in 1:nobs\n",
    "        rec = split(data[i])\n",
    "        lon[i] = parse(Float64,rec[1])\n",
    "        lat[i] = parse(Float64,rec[2])\n",
    "        time[i] = parse(Float64,rec[3])\n",
    "        field[i] = parse(Float64,rec[4])\n",
    "    end\n",
    "    \n",
    "    return lon, lat, time, field\n",
    "end\n",
    "info(\"Data read from file \", datafile)"
   ]
  },
  {
   "cell_type": "code",
   "execution_count": 5,
   "metadata": {},
   "outputs": [
    {
     "name": "stderr",
     "output_type": "stream",
     "text": [
      "19-juil. 09:24:31:INFO:root:Reading 11371 data points\n",
      "19-juil. 09:24:31:INFO:root:Mean field value = -0.09550065957259697\n"
     ]
    }
   ],
   "source": [
    "lon, lat, time, field = readAltimetryFile(datafile);\n",
    "info(\"Reading \", length(lon), \" data points\")\n",
    "info(\"Mean field value = \", mean(field))"
   ]
  },
  {
   "cell_type": "markdown",
   "metadata": {},
   "source": [
    "Create mask and metrics using coordinate vectors"
   ]
  },
  {
   "cell_type": "code",
   "execution_count": 6,
   "metadata": {},
   "outputs": [],
   "source": [
    "mask, (px, py, pt), (xi, yi, ti) = divand_rectdom(lonr, latr, timer);"
   ]
  },
  {
   "cell_type": "code",
   "execution_count": 7,
   "metadata": {},
   "outputs": [
    {
     "data": {
      "text/plain": [
       "(377, 145, 2)"
      ]
     },
     "execution_count": 7,
     "metadata": {},
     "output_type": "execute_result"
    }
   ],
   "source": [
    "size(mask)"
   ]
  },
  {
   "cell_type": "markdown",
   "metadata": {},
   "source": [
    "## Analysis parameters"
   ]
  },
  {
   "cell_type": "code",
   "execution_count": 8,
   "metadata": {},
   "outputs": [],
   "source": [
    "# correlation length\n",
    "len = (1., 1., 4.);\n",
    "# obs. error variance normalized by the background error variance\n",
    "epsilon2 = 1.;"
   ]
  },
  {
   "cell_type": "markdown",
   "metadata": {},
   "source": [
    "# Perform interpolation"
   ]
  },
  {
   "cell_type": "code",
   "execution_count": 9,
   "metadata": {},
   "outputs": [
    {
     "name": "stderr",
     "output_type": "stream",
     "text": [
      "\u001b[1m\u001b[33mWARNING: \u001b[39m\u001b[22m\u001b[33mmax{T1 <: Real}(x::AbstractArray{T1}, y::Real) is deprecated, use max.(x, y) instead.\u001b[39m\n",
      "Stacktrace:\n",
      " [1] \u001b[1mdepwarn\u001b[22m\u001b[22m\u001b[1m(\u001b[22m\u001b[22m::String, ::Symbol\u001b[1m)\u001b[22m\u001b[22m at \u001b[1m./deprecated.jl:70\u001b[22m\u001b[22m\n",
      " [2] \u001b[1mmax\u001b[22m\u001b[22m\u001b[1m(\u001b[22m\u001b[22m::Array{Float64,2}, ::Float64\u001b[1m)\u001b[22m\u001b[22m at \u001b[1m./deprecated.jl:57\u001b[22m\u001b[22m\n",
      " [3] \u001b[1mdivand_bc_stretch\u001b[22m\u001b[22m\u001b[1m(\u001b[22m\u001b[22m::BitArray{3}, ::Tuple{Array{Float64,3},Array{Float64,3},Array{Float64,3}}, ::Tuple{Array{Float64,3},Array{Float64,3},Array{Float64,3}}, ::Tuple{Float64,Float64,Float64}, ::Array{Any,1}, ::Int64\u001b[1m)\u001b[22m\u001b[22m at \u001b[1m/home/ctroupin/.julia/v0.6/divand/src/divand_bc_stretch.jl:60\u001b[22m\u001b[22m\n",
      " [4] \u001b[1m#divandrun#551\u001b[22m\u001b[22m\u001b[1m(\u001b[22m\u001b[22m::Tuple{}, ::Array{Any,1}, ::Array{Float64,1}, ::Bool, ::Bool, ::Float64, ::Int64, ::Int64, ::Tuple{}, ::Symbol, ::Array{Any,1}, ::Array{Any,1}, ::Array{Any,1}, ::Int64, ::divand.#divand_pc_none, ::divand.##553#555, ::Array{Float64,3}, ::Array{Float64,1}, ::Type{T} where T, ::Int64, ::Bool, ::Array{Any,1}, ::divand.#divandrun, ::BitArray{3}, ::Tuple{Array{Float64,3},Array{Float64,3},Array{Float64,3}}, ::Tuple{Array{Float64,3},Array{Float64,3},Array{Float64,3}}, ::Tuple{Array{Float64,1},Array{Float64,1},Array{Float64,1}}, ::Array{Float64,1}, ::Tuple{Float64,Float64,Float64}, ::Int64\u001b[1m)\u001b[22m\u001b[22m at \u001b[1m/home/ctroupin/.julia/v0.6/divand/src/divandrun.jl:151\u001b[22m\u001b[22m\n",
      " [5] \u001b[1m(::divand.#kw##divandrun)\u001b[22m\u001b[22m\u001b[1m(\u001b[22m\u001b[22m::Array{Any,1}, ::divand.#divandrun, ::BitArray{3}, ::Tuple{Array{Float64,3},Array{Float64,3},Array{Float64,3}}, ::Tuple{Array{Float64,3},Array{Float64,3},Array{Float64,3}}, ::Tuple{Array{Float64,1},Array{Float64,1},Array{Float64,1}}, ::Array{Float64,1}, ::Tuple{Float64,Float64,Float64}, ::Int64\u001b[1m)\u001b[22m\u001b[22m at \u001b[1m./<missing>:0\u001b[22m\u001b[22m\n",
      " [6] \u001b[1minclude_string\u001b[22m\u001b[22m\u001b[1m(\u001b[22m\u001b[22m::String, ::String\u001b[1m)\u001b[22m\u001b[22m at \u001b[1m./loading.jl:515\u001b[22m\u001b[22m\n",
      " [7] \u001b[1mexecute_request\u001b[22m\u001b[22m\u001b[1m(\u001b[22m\u001b[22m::ZMQ.Socket, ::IJulia.Msg\u001b[1m)\u001b[22m\u001b[22m at \u001b[1m/home/ctroupin/.julia/v0.6/IJulia/src/execute_request.jl:160\u001b[22m\u001b[22m\n",
      " [8] \u001b[1meventloop\u001b[22m\u001b[22m\u001b[1m(\u001b[22m\u001b[22m::ZMQ.Socket\u001b[1m)\u001b[22m\u001b[22m at \u001b[1m/home/ctroupin/.julia/v0.6/IJulia/src/eventloop.jl:8\u001b[22m\u001b[22m\n",
      " [9] \u001b[1m(::IJulia.##11#14)\u001b[22m\u001b[22m\u001b[1m(\u001b[22m\u001b[22m\u001b[1m)\u001b[22m\u001b[22m at \u001b[1m./task.jl:335\u001b[22m\u001b[22m\n",
      "while loading In[9], in expression starting on line 237\n",
      "\u001b[1m\u001b[33mWARNING: \u001b[39m\u001b[22m\u001b[33mMatrix{T}() is deprecated, use Matrix{T}(0, 0) instead.\u001b[39m\n",
      "Stacktrace:\n",
      " [1] \u001b[1mdepwarn\u001b[22m\u001b[22m\u001b[1m(\u001b[22m\u001b[22m::String, ::Symbol\u001b[1m)\u001b[22m\u001b[22m at \u001b[1m./deprecated.jl:70\u001b[22m\u001b[22m\n",
      " [2] \u001b[1mzero_arg_matrix_constructor\u001b[22m\u001b[22m\u001b[1m(\u001b[22m\u001b[22m::String\u001b[1m)\u001b[22m\u001b[22m at \u001b[1m./deprecated.jl:1265\u001b[22m\u001b[22m\n",
      " [3] \u001b[1mType\u001b[22m\u001b[22m at \u001b[1m./deprecated.jl:1268\u001b[22m\u001b[22m [inlined]\n",
      " [4] \u001b[1mdivand.divand_struct\u001b[22m\u001b[22m\u001b[1m(\u001b[22m\u001b[22m::BitArray{3}\u001b[1m)\u001b[22m\u001b[22m at \u001b[1m/home/ctroupin/.julia/v0.6/divand/src/divand.jl:115\u001b[22m\u001b[22m\n",
      " [5] \u001b[1mdivand_operators\u001b[22m\u001b[22m\u001b[1m(\u001b[22m\u001b[22m::Type{T} where T, ::BitArray{3}, ::Tuple{Array{Float64,3},Array{Float64,3},Array{Float64,3}}, ::Tuple{Array{Float64,3},Array{Float64,3},Array{Float64,3}}, ::BitArray{1}, ::Array{Any,1}, ::Tuple{Array{Float64,3},Array{Float64,3},Array{Float64,3}}\u001b[1m)\u001b[22m\u001b[22m at \u001b[1m/home/ctroupin/.julia/v0.6/divand/src/divand_operators.jl:26\u001b[22m\u001b[22m\n",
      " [6] \u001b[1m#divand_background#369\u001b[22m\u001b[22m\u001b[1m(\u001b[22m\u001b[22m::Array{Any,1}, ::Function, ::Type{T} where T, ::BitArray{3}, ::Tuple{Array{Float64,3},Array{Float64,3},Array{Float64,3}}, ::Tuple{Array{Float64,3},Array{Float64,3},Array{Float64,3}}, ::Array{Any,1}, ::Array{Any,1}, ::Bool, ::Array{Any,1}\u001b[1m)\u001b[22m\u001b[22m at \u001b[1m/home/ctroupin/.julia/v0.6/divand/src/divand_background.jl:119\u001b[22m\u001b[22m\n",
      " [7] \u001b[1m(::divand.#kw##divand_background)\u001b[22m\u001b[22m\u001b[1m(\u001b[22m\u001b[22m::Array{Any,1}, ::divand.#divand_background, ::Type{T} where T, ::BitArray{3}, ::Tuple{Array{Float64,3},Array{Float64,3},Array{Float64,3}}, ::Tuple{Array{Float64,3},Array{Float64,3},Array{Float64,3}}, ::Array{Any,1}, ::Array{Any,1}, ::Bool, ::Array{Any,1}\u001b[1m)\u001b[22m\u001b[22m at \u001b[1m./<missing>:0\u001b[22m\u001b[22m\n",
      " [8] \u001b[1m#divandrun#551\u001b[22m\u001b[22m\u001b[1m(\u001b[22m\u001b[22m::Tuple{}, ::Array{Any,1}, ::Array{Float64,1}, ::Bool, ::Bool, ::Float64, ::Int64, ::Int64, ::Tuple{}, ::Symbol, ::Array{Any,1}, ::Array{Any,1}, ::Array{Any,1}, ::Int64, ::divand.#divand_pc_none, ::divand.##553#555, ::Array{Float64,3}, ::Array{Float64,1}, ::Type{T} where T, ::Int64, ::Bool, ::Array{Any,1}, ::divand.#divandrun, ::BitArray{3}, ::Tuple{Array{Float64,3},Array{Float64,3},Array{Float64,3}}, ::Tuple{Array{Float64,3},Array{Float64,3},Array{Float64,3}}, ::Tuple{Array{Float64,1},Array{Float64,1},Array{Float64,1}}, ::Array{Float64,1}, ::Tuple{Float64,Float64,Float64}, ::Int64\u001b[1m)\u001b[22m\u001b[22m at \u001b[1m/home/ctroupin/.julia/v0.6/divand/src/divandrun.jl:154\u001b[22m\u001b[22m\n",
      " [9] \u001b[1m(::divand.#kw##divandrun)\u001b[22m\u001b[22m\u001b[1m(\u001b[22m\u001b[22m::Array{Any,1}, ::divand.#divandrun, ::BitArray{3}, ::Tuple{Array{Float64,3},Array{Float64,3},Array{Float64,3}}, ::Tuple{Array{Float64,3},Array{Float64,3},Array{Float64,3}}, ::Tuple{Array{Float64,1},Array{Float64,1},Array{Float64,1}}, ::Array{Float64,1}, ::Tuple{Float64,Float64,Float64}, ::Int64\u001b[1m)\u001b[22m\u001b[22m at \u001b[1m./<missing>:0\u001b[22m\u001b[22m\n",
      " [10] \u001b[1minclude_string\u001b[22m\u001b[22m\u001b[1m(\u001b[22m\u001b[22m::String, ::String\u001b[1m)\u001b[22m\u001b[22m at \u001b[1m./loading.jl:515\u001b[22m\u001b[22m\n",
      " [11] \u001b[1mexecute_request\u001b[22m\u001b[22m\u001b[1m(\u001b[22m\u001b[22m::ZMQ.Socket, ::IJulia.Msg\u001b[1m)\u001b[22m\u001b[22m at \u001b[1m/home/ctroupin/.julia/v0.6/IJulia/src/execute_request.jl:160\u001b[22m\u001b[22m\n",
      " [12] \u001b[1meventloop\u001b[22m\u001b[22m\u001b[1m(\u001b[22m\u001b[22m::ZMQ.Socket\u001b[1m)\u001b[22m\u001b[22m at \u001b[1m/home/ctroupin/.julia/v0.6/IJulia/src/eventloop.jl:8\u001b[22m\u001b[22m\n",
      " [13] \u001b[1m(::IJulia.##11#14)\u001b[22m\u001b[22m\u001b[1m(\u001b[22m\u001b[22m\u001b[1m)\u001b[22m\u001b[22m at \u001b[1m./task.jl:335\u001b[22m\u001b[22m\n",
      "while loading In[9], in expression starting on line 237\n"
     ]
    },
    {
     "ename": "LoadError",
     "evalue": "\u001b[91mMethodError: no method matching divand.divand_constrain(::Array{Float64,1}, ::Diagonal{Int64}, ::SparseMatrixCSC{Float64,Int64})\u001b[0m\nClosest candidates are:\n  divand.divand_constrain(::Array{T<:AbstractFloat,1}, \u001b[91m::AbstractArray{T<:AbstractFloat,2}\u001b[39m, ::AbstractArray{T<:AbstractFloat,2}) where T<:AbstractFloat at /home/ctroupin/.julia/v0.6/divand/src/divand.jl:13\u001b[39m",
     "output_type": "error",
     "traceback": [
      "\u001b[91mMethodError: no method matching divand.divand_constrain(::Array{Float64,1}, ::Diagonal{Int64}, ::SparseMatrixCSC{Float64,Int64})\u001b[0m\nClosest candidates are:\n  divand.divand_constrain(::Array{T<:AbstractFloat,1}, \u001b[91m::AbstractArray{T<:AbstractFloat,2}\u001b[39m, ::AbstractArray{T<:AbstractFloat,2}) where T<:AbstractFloat at /home/ctroupin/.julia/v0.6/divand/src/divand.jl:13\u001b[39m",
      "",
      "Stacktrace:",
      " [1] \u001b[1m#divand_obs#418\u001b[22m\u001b[22m\u001b[1m(\u001b[22m\u001b[22m::Array{Any,1}, ::Function, ::divand.divand_struct{Float64,Int64,3}, ::Tuple{Array{Float64,3},Array{Float64,3},Array{Float64,3}}, ::Tuple{Array{Float64,1},Array{Float64,1},Array{Float64,1}}, ::Array{Float64,1}, ::Diagonal{Int64}\u001b[1m)\u001b[22m\u001b[22m at \u001b[1m/home/ctroupin/.julia/v0.6/divand/src/divand_obs.jl:56\u001b[22m\u001b[22m",
      " [2] \u001b[1m(::divand.#kw##divand_obs)\u001b[22m\u001b[22m\u001b[1m(\u001b[22m\u001b[22m::Array{Any,1}, ::divand.#divand_obs, ::divand.divand_struct{Float64,Int64,3}, ::Tuple{Array{Float64,3},Array{Float64,3},Array{Float64,3}}, ::Tuple{Array{Float64,1},Array{Float64,1},Array{Float64,1}}, ::Array{Float64,1}, ::Diagonal{Int64}\u001b[1m)\u001b[22m\u001b[22m at \u001b[1m./<missing>:0\u001b[22m\u001b[22m",
      " [3] \u001b[1m#divandrun#551\u001b[22m\u001b[22m\u001b[1m(\u001b[22m\u001b[22m::Tuple{}, ::Array{Any,1}, ::Array{Float64,1}, ::Bool, ::Bool, ::Float64, ::Int64, ::Int64, ::Tuple{}, ::Symbol, ::Array{Any,1}, ::Array{Any,1}, ::Array{Any,1}, ::Int64, ::divand.#divand_pc_none, ::divand.##553#555, ::Array{Float64,3}, ::Array{Float64,1}, ::Type{T} where T, ::Int64, ::Bool, ::Array{Any,1}, ::divand.#divandrun, ::BitArray{3}, ::Tuple{Array{Float64,3},Array{Float64,3},Array{Float64,3}}, ::Tuple{Array{Float64,3},Array{Float64,3},Array{Float64,3}}, ::Tuple{Array{Float64,1},Array{Float64,1},Array{Float64,1}}, ::Array{Float64,1}, ::Tuple{Float64,Float64,Float64}, ::Int64\u001b[1m)\u001b[22m\u001b[22m at \u001b[1m/home/ctroupin/.julia/v0.6/divand/src/divandrun.jl:217\u001b[22m\u001b[22m",
      " [4] \u001b[1m(::divand.#kw##divandrun)\u001b[22m\u001b[22m\u001b[1m(\u001b[22m\u001b[22m::Array{Any,1}, ::divand.#divandrun, ::BitArray{3}, ::Tuple{Array{Float64,3},Array{Float64,3},Array{Float64,3}}, ::Tuple{Array{Float64,3},Array{Float64,3},Array{Float64,3}}, ::Tuple{Array{Float64,1},Array{Float64,1},Array{Float64,1}}, ::Array{Float64,1}, ::Tuple{Float64,Float64,Float64}, ::Int64\u001b[1m)\u001b[22m\u001b[22m at \u001b[1m./<missing>:0\u001b[22m\u001b[22m"
     ]
    }
   ],
   "source": [
    "@time fi,s = divandrun(mask, (px, py, pt), (xi, yi, ti), (lon, lat, time), field, len, epsilon2; alphabc=2);"
   ]
  },
  {
   "cell_type": "markdown",
   "metadata": {},
   "source": [
    "## Export results to netCDF"
   ]
  },
  {
   "cell_type": "code",
   "execution_count": 10,
   "metadata": {},
   "outputs": [
    {
     "ename": "LoadError",
     "evalue": "\u001b[91mNetCDF error code 13:\n\tPermission denied\u001b[39m",
     "output_type": "error",
     "traceback": [
      "\u001b[91mNetCDF error code 13:\n\tPermission denied\u001b[39m",
      "",
      "Stacktrace:",
      " [1] \u001b[1mcheck\u001b[22m\u001b[22m at \u001b[1m/home/ctroupin/.julia/v0.6/NetCDF/src/netcdf_helpers.jl:22\u001b[22m\u001b[22m [inlined]",
      " [2] \u001b[1mnc_create\u001b[22m\u001b[22m\u001b[1m(\u001b[22m\u001b[22m::String, ::UInt16, ::Array{Int32,1}\u001b[1m)\u001b[22m\u001b[22m at \u001b[1m/home/ctroupin/.julia/v0.6/NetCDF/src/netcdf_c.jl:209\u001b[22m\u001b[22m",
      " [3] \u001b[1mnc_create\u001b[22m\u001b[22m at \u001b[1m/home/ctroupin/.julia/v0.6/NetCDF/src/netcdf_helpers.jl:94\u001b[22m\u001b[22m [inlined]",
      " [4] \u001b[1m#create#35\u001b[22m\u001b[22m\u001b[1m(\u001b[22m\u001b[22m::Dict{Any,Any}, ::UInt16, ::Function, ::String, ::Array{NetCDF.NcVar,1}\u001b[1m)\u001b[22m\u001b[22m at \u001b[1m/home/ctroupin/.julia/v0.6/NetCDF/src/NetCDF.jl:564\u001b[22m\u001b[22m",
      " [5] \u001b[1m(::NetCDF.#kw##create)\u001b[22m\u001b[22m\u001b[1m(\u001b[22m\u001b[22m::Array{Any,1}, ::NetCDF.#create, ::String, ::Array{NetCDF.NcVar,1}\u001b[1m)\u001b[22m\u001b[22m at \u001b[1m./<missing>:0\u001b[22m\u001b[22m",
      " [6] \u001b[1m#create#36\u001b[22m\u001b[22m\u001b[1m(\u001b[22m\u001b[22m::Dict{Any,Any}, ::UInt16, ::Function, ::String, ::NetCDF.NcVar{Float64,3,6}, ::Vararg{NetCDF.NcVar{Float64,3,6},N} where N\u001b[1m)\u001b[22m\u001b[22m at \u001b[1m/home/ctroupin/.julia/v0.6/NetCDF/src/NetCDF.jl:612\u001b[22m\u001b[22m",
      " [7] \u001b[1mcreate\u001b[22m\u001b[22m\u001b[1m(\u001b[22m\u001b[22m::String, ::NetCDF.NcVar{Float64,3,6}\u001b[1m)\u001b[22m\u001b[22m at \u001b[1m/home/ctroupin/.julia/v0.6/NetCDF/src/NetCDF.jl:612\u001b[22m\u001b[22m"
     ]
    }
   ],
   "source": [
    "sz = size(mask)\n",
    "dims = [NcDim(\"longitude\",sz[1]), NcDim(\"latitude\",sz[2]), NcDim(\"time\",sz[3])];\n",
    "nc = NetCDF.create(resultfile, NcVar(\"ADT\", dims))\n",
    "nc[\"ADT\"][:,:, :] = fi\n",
    "NetCDF.close(nc);\n",
    "info(\"Written interpolated field in file:\\n\", resultfile)"
   ]
  },
  {
   "cell_type": "markdown",
   "metadata": {},
   "source": [
    "# Plotting"
   ]
  },
  {
   "cell_type": "markdown",
   "metadata": {},
   "source": [
    "Done in [another notebook in Python](../python/plot_AVISO_divand.ipynb) due to a problem with Julia / matplotlib."
   ]
  }
 ],
 "metadata": {
  "kernelspec": {
   "display_name": "Julia 0.6.0",
   "language": "julia",
   "name": "julia-0.6"
  },
  "language_info": {
   "file_extension": ".jl",
   "mimetype": "application/julia",
   "name": "julia",
   "version": "0.6.0"
  }
 },
 "nbformat": 4,
 "nbformat_minor": 2
}
