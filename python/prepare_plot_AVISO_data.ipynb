{
 "cells": [
  {
   "cell_type": "markdown",
   "metadata": {
    "deletable": true,
    "editable": true
   },
   "source": [
    "Code to prepare and plot the altimetry input data files, both for Diva2D and [divand](https://www.github.com/gher-ulg/divand.jl/)."
   ]
  },
  {
   "cell_type": "code",
   "execution_count": 1,
   "metadata": {
    "collapsed": false,
    "deletable": true,
    "editable": true
   },
   "outputs": [],
   "source": [
    "import os\n",
    "import re\n",
    "import datetime\n",
    "import numpy as np\n",
    "import matplotlib.pyplot as plt\n",
    "from mpl_toolkits.basemap import Basemap\n",
    "from matplotlib import rcParams\n",
    "import netCDF4\n",
    "import logging\n",
    "import divaaltimetry\n",
    "from calendar import monthrange"
   ]
  },
  {
   "cell_type": "markdown",
   "metadata": {
    "deletable": true,
    "editable": true
   },
   "source": [
    "## Configuration\n",
    "\n",
    "Logging"
   ]
  },
  {
   "cell_type": "code",
   "execution_count": 2,
   "metadata": {
    "collapsed": false,
    "deletable": true,
    "editable": true
   },
   "outputs": [],
   "source": [
    "logger = logging.getLogger(\"diva-altimetry\")\n",
    "logger.setLevel(logging.INFO)"
   ]
  },
  {
   "cell_type": "markdown",
   "metadata": {
    "deletable": true,
    "editable": true
   },
   "source": [
    "Plotting (should be ideally in `matplotlibrc` but seems not to work with virtualenv)."
   ]
  },
  {
   "cell_type": "code",
   "execution_count": 3,
   "metadata": {
    "collapsed": false,
    "deletable": true,
    "editable": true
   },
   "outputs": [],
   "source": [
    "rcParams.update({'font.size': 16, 'figure.dpi': 300, 'savefig.bbox': 'tight'})\n",
    "# rcParams.keys"
   ]
  },
  {
   "cell_type": "markdown",
   "metadata": {
    "deletable": true,
    "editable": true
   },
   "source": [
    "# Input parameters"
   ]
  },
  {
   "cell_type": "markdown",
   "metadata": {
    "deletable": true,
    "editable": true
   },
   "source": [
    "## Files and directories"
   ]
  },
  {
   "cell_type": "code",
   "execution_count": 4,
   "metadata": {
    "collapsed": true,
    "deletable": true,
    "editable": true
   },
   "outputs": [],
   "source": [
    "databasedir = \"/home/ctroupin/Data/AVISO/regional-mediterranean/delayed-time/along-track/filtered/adt\"\n",
    "outputdir = \"../data/\"\n",
    "figdir = \"../figures/\"\n",
    "missionlist = [\"al\", \"c2\", \"h2\", \"j2\"]"
   ]
  },
  {
   "cell_type": "markdown",
   "metadata": {
    "deletable": true,
    "editable": true
   },
   "source": [
    "## Domain and period of interest\n",
    "* coordinates: tuple with lon_min, lon_max, lat_min, lat_max \n",
    "* timescale: temporal scale in days; used to compute weights for Diva2D"
   ]
  },
  {
   "cell_type": "code",
   "execution_count": 12,
   "metadata": {
    "collapsed": true,
    "deletable": true,
    "editable": true
   },
   "outputs": [],
   "source": [
    "coordinates = (-6.75, 40.001, 30, 48.)\n",
    "yearlist, monthlist, daylist, interval = [2014], [4, 4], [1, 10], 10\n",
    "timescale = 5.        "
   ]
  },
  {
   "cell_type": "markdown",
   "metadata": {
    "deletable": true,
    "editable": true
   },
   "source": [
    "## Map projection\n",
    "Define the projection from the coordinates; used for the plots."
   ]
  },
  {
   "cell_type": "code",
   "execution_count": 6,
   "metadata": {
    "collapsed": false,
    "deletable": true,
    "editable": true
   },
   "outputs": [],
   "source": [
    "m = Basemap(projection='merc',\n",
    "            llcrnrlon=coordinates[0], llcrnrlat=coordinates[2],\n",
    "            urcrnrlon=coordinates[1], urcrnrlat=coordinates[3],\n",
    "            lat_ts=0.5 * (coordinates[2] + coordinates[3]), resolution='i')"
   ]
  },
  {
   "cell_type": "markdown",
   "metadata": {
    "deletable": true,
    "editable": true
   },
   "source": [
    "## Generate list of files for the selected period"
   ]
  },
  {
   "cell_type": "markdown",
   "metadata": {
    "deletable": true,
    "editable": true
   },
   "source": [
    "Based on the filenames, we can easily identify the files corresponding to the time of interest:\n",
    "* datemid is the central time of the considered period\n",
    "* datestart is the start date\n",
    "* dateend is the last day."
   ]
  },
  {
   "cell_type": "markdown",
   "metadata": {
    "deletable": true,
    "editable": true
   },
   "source": [
    "# Main loop\n",
    "Loop on years, months and days; for each day, create a list of the files that contains the dates of interest (day +/- the selected interval)."
   ]
  },
  {
   "cell_type": "code",
   "execution_count": 16,
   "metadata": {
    "collapsed": false,
    "deletable": true,
    "editable": true
   },
   "outputs": [],
   "source": [
    "for year in yearlist:\n",
    "    \n",
    "    for month in monthlist:\n",
    "        daystart, dayend = monthrange(year, month)\n",
    "        if month == monthlist[0]:\n",
    "            daystart = daylist[0]\n",
    "        elif month == monthlist[-1]:\n",
    "            dayend = daylist[-1]\n",
    "        \n",
    "        for day in range(daystart, dayend + 1):\n",
    "            \n",
    "            filelist = divaaltimetry.make_filelist(databasedir, missionlist, \n",
    "                                                   year, month, day, interval)\n",
    "\n",
    "            datemid = datetime.datetime(year, month, day).toordinal() - \\\n",
    "            datetime.datetime(1950, 1, 1).toordinal()\n",
    "            logging.info(\"Central time (in days since January 1st, 1950): {0}\".\n",
    "                         format(datemid))\n",
    "\n",
    "            fignamesuffix, figtitledate = divaaltimetry.prepare_datestrings(year, \n",
    "                                                                            month, \n",
    "                                                                            day, interval)\n",
    "            logging.info(fignamesuffix)\n",
    "\n",
    "            ## File and figure names\n",
    "            #Generate file and figure names using the suffixes.\n",
    "            outputfilename = \"ADT_{0}.dat\".format(fignamesuffix)\n",
    "            divafilename =  \"data_{0}.dat\".format(fignamesuffix)\n",
    "            figname = \"ADT_{0}\".format(fignamesuffix)\n",
    "            logging.info(\"Text file name: {0}\".format(outputfilename))\n",
    "            logging.info(\"Figure name: {0}\".format(figname))\n",
    "\n",
    "            ## Make the plot and write data to text files\n",
    "            # plot_data_tracks(filelist, os.path.join(figdir, figname), m)\n",
    "            \n",
    "            write_tracks2file(filelist, os.path.join(outputdir, outputfilename), \n",
    "                              os.path.join(outputdir, divafilename), \n",
    "                              timescale, datemid)"
   ]
  },
  {
   "cell_type": "code",
   "execution_count": 11,
   "metadata": {
    "collapsed": false,
    "deletable": true,
    "editable": true
   },
   "outputs": [],
   "source": [
    "def plot_data_tracks(filelist, figname, m):\n",
    "    \n",
    "    fig = plt.figure(figsize=(10, 10))\n",
    "    ax = plt.subplot(111)\n",
    "\n",
    "    npoints = 0\n",
    "\n",
    "    for file in filelist:\n",
    "        track = divaaltimetry.Track(file)\n",
    "        # Add track to the plot\n",
    "        track.add_to_map(m, marker='o', s=3, vmin=-.2, vmax=.2)\n",
    "        \n",
    "        # Count the number of points\n",
    "        npoints += track.npoints\n",
    "        \n",
    "    # Add lines, coastline etc    \n",
    "    m.drawmeridians(np.arange(-8., round(coordinates[1]), 8), \n",
    "                    labels=[0, 0, 0, 1], linewidth=.2)\n",
    "    m.drawparallels(np.linspace(round(coordinates[2]), round(coordinates[3]), 5), \n",
    "                    labels=[1, 0, 0, 0], linewidth=.2)\n",
    "    m.drawcoastlines(linewidth=.2)\n",
    "    cbar = plt.colorbar(shrink=.5, extend='both')\n",
    "    cbar.set_label(\"m\", rotation=0)\n",
    "    plt.title(\"{0} \\n {1} data points\".format(figtitledate, npoints))\n",
    "    plt.savefig(figname, dpi=300)\n",
    "    #plt.show()\n",
    "    plt.close()"
   ]
  },
  {
   "cell_type": "code",
   "execution_count": 15,
   "metadata": {
    "collapsed": true,
    "deletable": true,
    "editable": true
   },
   "outputs": [],
   "source": [
    "def write_tracks2file(filelist, outputfile, divafile, timescale, datemid):\n",
    "    \n",
    "    for file in filelist:\n",
    "        track = divaaltimetry.Track(file)\n",
    "        # Write data to a text file\n",
    "        track.write_textfile(outputfile)\n",
    "        # Compute data weights and write a Diva2D data file\n",
    "        track.write_divafile(divafile, timescale, datemid)"
   ]
  },
  {
   "cell_type": "code",
   "execution_count": null,
   "metadata": {
    "collapsed": true
   },
   "outputs": [],
   "source": []
  }
 ],
 "metadata": {
  "kernelspec": {
   "display_name": "Diva-python3.6",
   "language": "python",
   "name": "diva-python3.6"
  },
  "language_info": {
   "codemirror_mode": {
    "name": "ipython",
    "version": 3
   },
   "file_extension": ".py",
   "mimetype": "text/x-python",
   "name": "python",
   "nbconvert_exporter": "python",
   "pygments_lexer": "ipython3",
   "version": "3.6.0"
  }
 },
 "nbformat": 4,
 "nbformat_minor": 2
}
