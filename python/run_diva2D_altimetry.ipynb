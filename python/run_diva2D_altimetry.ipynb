{
 "cells": [
  {
   "cell_type": "markdown",
   "metadata": {},
   "source": [
    "Application in which we read and process altimetry measurements."
   ]
  },
  {
   "cell_type": "code",
   "execution_count": 1,
   "metadata": {},
   "outputs": [],
   "source": [
    "import os\n",
    "import glob\n",
    "import logging\n",
    "import numpy as np\n",
    "from matplotlib import rcParams\n",
    "from mpl_toolkits.basemap import Basemap\n",
    "import pydiva2d\n",
    "import netCDF4\n",
    "import divaaltimetry\n",
    "import matplotlib.pyplot as plt"
   ]
  },
  {
   "cell_type": "markdown",
   "metadata": {},
   "source": [
    "If you get a `ModuleNotFoundError` message, ensure that the module `pydiva2d` is available in the Python path."
   ]
  },
  {
   "cell_type": "markdown",
   "metadata": {},
   "source": [
    "# Setup \n",
    "\n",
    "## Logging configuration\n",
    "\n",
    "The *logging* is already configured in `pydiva2d`.<br>\n",
    "Replace 'DEBUG' by 'INFO', 'WARNING' or 'ERROR'."
   ]
  },
  {
   "cell_type": "code",
   "execution_count": 2,
   "metadata": {
    "collapsed": true
   },
   "outputs": [],
   "source": [
    "logger = logging.getLogger('divaAltimetry')\n",
    "logger.setLevel(logging.DEBUG)"
   ]
  },
  {
   "cell_type": "markdown",
   "metadata": {},
   "source": [
    "## Files and directories\n",
    "\n",
    "Set the path to the Diva installation you want and the main input files.   \n",
    "A different file will be used for the mesh generation."
   ]
  },
  {
   "cell_type": "code",
   "execution_count": 3,
   "metadata": {
    "collapsed": true
   },
   "outputs": [],
   "source": [
    "divadir = \"/home/ctroupin/Software/DIVA/DIVA-diva-4.7.1\"\n",
    "projectdir = \"/home/ctroupin/Projects/Altimetry-Interpolation/\"\n",
    "coastfile = os.path.join(projectdir, \"diva/coast.cont\")\n",
    "datadir = os.path.join(projectdir, \"data/\")\n",
    "paramfile = os.path.join(projectdir, \"diva/param.par\")\n",
    "paramfilemesh = os.path.join(projectdir, \"diva/param.par.mesh\")\n",
    "outputdir = os.path.join(projectdir, \"results/diva2D/\")\n",
    "figdir = \"../figures/diva2d/\"\n",
    "if not os.path.exists(divadir):\n",
    "    logger.error(\"Diva directory doesn't exist\")\n",
    "if not os.path.exists(outputdir):\n",
    "    os.makedirs(outputdir)\n",
    "    logger.debug(\"Create output directory\")\n",
    "if not os.path.exists(figdir):\n",
    "    os.makedirs(figdir)\n",
    "    logger.debug(\"Create figure directory\")"
   ]
  },
  {
   "cell_type": "markdown",
   "metadata": {},
   "source": [
    "## Matplotlib options"
   ]
  },
  {
   "cell_type": "code",
   "execution_count": 4,
   "metadata": {
    "collapsed": true
   },
   "outputs": [],
   "source": [
    "rcParams.update({'font.size': 14, 'figure.dpi': 300, 'savefig.bbox': 'tight'})\n",
    "coordinates = (-6.75, 36.001, 30, 48.)\n",
    "meridians = np.arange(-8., 40., 8.)\n",
    "parallels = np.arange(30., 50., 4.5)"
   ]
  },
  {
   "cell_type": "markdown",
   "metadata": {},
   "source": [
    "### Projection\n",
    "Will be used for the plots."
   ]
  },
  {
   "cell_type": "code",
   "execution_count": 5,
   "metadata": {
    "collapsed": true
   },
   "outputs": [],
   "source": [
    "m = Basemap(projection='merc',\n",
    "            llcrnrlon=-6., llcrnrlat=30.,\n",
    "            urcrnrlon=40., urcrnrlat=48.,\n",
    "            lat_ts=39., resolution='i')"
   ]
  },
  {
   "cell_type": "markdown",
   "metadata": {},
   "source": [
    "## Directories\n",
    "Create variables storing the Diva directories and files."
   ]
  },
  {
   "cell_type": "code",
   "execution_count": 6,
   "metadata": {
    "collapsed": true
   },
   "outputs": [],
   "source": [
    "DivaDirs = pydiva2d.DivaDirectories(divadir)\n",
    "DivaFiles = pydiva2d.Diva2Dfiles(DivaDirs.diva2d)"
   ]
  },
  {
   "cell_type": "markdown",
   "metadata": {},
   "source": [
    "# Analysis\n",
    "## Create mesh"
   ]
  },
  {
   "cell_type": "code",
   "execution_count": 7,
   "metadata": {},
   "outputs": [],
   "source": [
    "mesh2d = pydiva2d.Diva2DMesh().make(divadir, contourfile=coastfile, paramfile=paramfilemesh)"
   ]
  },
  {
   "cell_type": "code",
   "execution_count": 8,
   "metadata": {},
   "outputs": [
    {
     "name": "stdout",
     "output_type": "stream",
     "text": [
      "Number of nodes: 6704\n",
      "Number of interfaces: 16293\n",
      "Number of elements: 9496\n"
     ]
    }
   ],
   "source": [
    "mesh2d.describe()"
   ]
  },
  {
   "cell_type": "markdown",
   "metadata": {},
   "source": [
    "## Diva calculation\n",
    "We use another parameter file, loop over the data files and copy the outputs (netCDF) in the specified directory."
   ]
  },
  {
   "cell_type": "code",
   "execution_count": 9,
   "metadata": {},
   "outputs": [
    {
     "name": "stderr",
     "output_type": "stream",
     "text": [
      "/home/ctroupin/Software/PythonEnvs/Diva-python3.6/lib/python3.6/site-packages/mpl_toolkits/basemap/__init__.py:3413: MatplotlibDeprecationWarning: The ishold function was deprecated in version 2.0.\n",
      "  b = ax.ishold()\n",
      "/home/ctroupin/Software/PythonEnvs/Diva-python3.6/lib/python3.6/site-packages/mpl_toolkits/basemap/__init__.py:3422: MatplotlibDeprecationWarning: axes.hold is deprecated.\n",
      "    See the API Changes document (http://matplotlib.org/api/api_changes.html)\n",
      "    for more details.\n",
      "  ax.hold(b)\n"
     ]
    }
   ],
   "source": [
    "for datafile in sorted(glob.glob(os.path.join(datadir, 'data_20140901*.dat'))):\n",
    "    \n",
    "    \n",
    "    outputfile = \"\".join((os.path.basename(datafile).split('.')[0], '.nc'))\n",
    "    figname = os.path.basename(datafile).split('.')[0]\n",
    "    logger.info(\"Output file: {0}\".format(outputfile))\n",
    "    \n",
    "    \"\"\"\n",
    "    results2d = pydiva2d.Diva2DResults().make(divadir, datafile=datafile,\n",
    "                                              paramfile=paramfile, \n",
    "                                              contourfile=coastfile,\n",
    "                                              outputfile=os.path.join(outputdir, outputfile))\n",
    "    \"\"\"\n",
    "    \n",
    "    # Make plot\n",
    "    SLA = divaaltimetry.AltimetryField().from_diva2d_file(os.path.join(outputdir, outputfile))\n",
    "    SLA.add_to_plot(figname=os.path.join(figdir, figname), m=m,\n",
    "                    meridians=meridians, parallels=parallels,\n",
    "                    vmin=-0.2, vmax=0.2,\n",
    "                    cmap=plt.cm.RdYlBu_r)\n",
    "    #divadata = pydiva2d.Diva2DData().read_from(datafile)"
   ]
  }
 ],
 "metadata": {
  "kernelspec": {
   "display_name": "Diva-python3.6",
   "language": "python",
   "name": "diva-python3.6"
  },
  "language_info": {
   "codemirror_mode": {
    "name": "ipython",
    "version": 3
   },
   "file_extension": ".py",
   "mimetype": "text/x-python",
   "name": "python",
   "nbconvert_exporter": "python",
   "pygments_lexer": "ipython3",
   "version": "3.6.0"
  }
 },
 "nbformat": 4,
 "nbformat_minor": 2
}
